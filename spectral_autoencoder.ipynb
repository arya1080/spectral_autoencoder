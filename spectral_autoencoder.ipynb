{
 "cells": [
  {
   "cell_type": "markdown",
   "id": "e8cdaeac",
   "metadata": {},
   "source": [
    "# Import Libraries"
   ]
  },
  {
   "cell_type": "code",
   "execution_count": 1,
   "id": "f633ee83",
   "metadata": {},
   "outputs": [],
   "source": [
    "# importing the libraries\n",
    "import pandas as pd\n",
    "import numpy as np\n",
    "import os\n",
    "import cv2\n",
    "from tqdm import tqdm\n",
    "import matplotlib.pyplot as plt\n",
    "%matplotlib inline\n",
    "\n",
    "# for reading and displaying images\n",
    "from skimage import io\n",
    "from skimage.io import imread\n",
    "from sklearn.model_selection import train_test_split\n",
    "from sklearn.metrics import accuracy_score\n",
    "\n",
    "# PyTorch libraries and modules\n",
    "import torch\n",
    "from torch import nn\n",
    "from torch.autograd import Variable\n",
    "from torch.nn import Linear, ReLU, Tanh, Hardtanh, LeakyReLU, ELU, Sigmoid, CrossEntropyLoss, Sequential, Conv2d, ConvTranspose2d, MaxPool2d, Module, Softmax, BatchNorm2d, Dropout\n",
    "from torch.optim import Adam, SGD\n",
    "import torch.nn.functional as f"
   ]
  },
  {
   "cell_type": "code",
   "execution_count": 2,
   "id": "49b32e43",
   "metadata": {},
   "outputs": [
    {
     "name": "stdout",
     "output_type": "stream",
     "text": [
      "The model will be trained on cuda:1\n",
      "Data will be loaded from \"/home/arya1080/engrprojects/WilsonGroup/TuCo/data/20210920 modify SVD_mods_Arya/620nm/\"\n",
      "Data will be saved to \"/home/arya1080/engrprojects/WilsonGroup/MRA_grant/work_in_progress_arya/spectral_autoencoder_data/\"\n"
     ]
    }
   ],
   "source": [
    "data = os.uname()\n",
    "global device\n",
    "if data[1] == 'lambda-dual':\n",
    "    device = 'cuda:1'\n",
    "    print('The model will be trained on {}'.format(device))\n",
    "    data_dir = '/home/arya1080/engrprojects/WilsonGroup/TuCo/data/20210920 modify SVD_mods_Arya/620nm/'\n",
    "    save_dir = '/home/arya1080/engrprojects/WilsonGroup/MRA_grant/work_in_progress_arya/spectral_autoencoder_data/'\n",
    "    print('Data will be loaded from \"{}\"'.format(data_dir))\n",
    "    print('Data will be saved to \"{}\"'.format(save_dir))\n",
    "elif data[1] == 'linuxg3' or data[1] == 'linuxg4':\n",
    "    device = 'cuda:0'\n",
    "    data_dir = '/top/projects/WilsonGroup/TuCo/data/20210920 modify SVD_mods_Arya/620nm/'\n",
    "    save_dir = '/top/projects/WilsonGroup/MRA_grant/work_in_progress_arya/spectral_autoencoder_data/'\n",
    "    print('The model will be trained on {}'.format(device))\n",
    "    print('Data will be saved to \"{}\"'.format(save_dir))\n",
    "    "
   ]
  },
  {
   "cell_type": "markdown",
   "id": "e952a6ab",
   "metadata": {},
   "source": [
    "# Load dataset"
   ]
  },
  {
   "cell_type": "code",
   "execution_count": 3,
   "id": "67361c30",
   "metadata": {},
   "outputs": [
    {
     "name": "stdout",
     "output_type": "stream",
     "text": [
      "Input dataset specs:\n",
      "img width = 681, img height = 406, img channels = 9\n"
     ]
    }
   ],
   "source": [
    "# loading dataset\n",
    "filenames = os.listdir(data_dir)\n",
    "img_stack = []\n",
    "for files in filenames:\n",
    "    img = io.imread(data_dir + files)\n",
    "    img_stack.append(img)\n",
    "\n",
    "# convert images to numpy arrays\n",
    "img_stack = np.asarray(img_stack)\n",
    "img_stack = img_stack.astype('float32')\n",
    "\n",
    "# get image height and width metrics\n",
    "_, nx, ny, nch = img_stack.shape\n",
    "print('Input dataset specs:')\n",
    "print('img width = {}, img height = {}, img channels = {}'.format(nx, ny, nch))\n",
    "\n",
    "# process the input image stack\n",
    "img_stack = torch.tensor(img_stack)\n",
    "img_stack = img_stack.to(device)"
   ]
  },
  {
   "cell_type": "markdown",
   "id": "06761f0d",
   "metadata": {},
   "source": [
    "# Define functions"
   ]
  },
  {
   "cell_type": "code",
   "execution_count": 30,
   "id": "59633a70",
   "metadata": {},
   "outputs": [],
   "source": [
    "class ResnetBlock(Module):\n",
    "    def __init__(self, channels, kernel_size, stride, padding):\n",
    "        super(ResnetBlock, self).__init__()\n",
    "        self.conv = Sequential(\n",
    "                        Conv2d(in_channels=channels, \n",
    "                          out_channels=channels,\n",
    "                          kernel_size=kernel_size,\n",
    "                          stride=stride,\n",
    "                          padding=padding, bias=False) )\n",
    "        \n",
    "    def forward(self, x):\n",
    "        intermediate = self.conv(x)\n",
    "        out = x + intermediate\n",
    "        return out\n",
    "        \n",
    "\n",
    "class ScalableSat(Module):\n",
    "    def __init__(self):\n",
    "        super(ScalableSat, self).__init__()\n",
    " \n",
    "        self.a = nn.parameter.Parameter(torch.Tensor([1.0,1.0,0.0]))\n",
    "        self.tanh = Hardtanh()\n",
    "        \n",
    "    def forward(self,x):\n",
    "        return self.a[1]*self.tanh(self.a[0]*x)+self.a[2]\n",
    "    \n",
    "class LeakyHardsigmoid(Module):\n",
    "    def __init__(self, negative_slope=0.1):\n",
    "        super(LeakyHardsigmoid,self).__init__()\n",
    "        self.ns = negative_slope\n",
    "        \n",
    "    def forward(self,x):\n",
    "        return f.leaky_relu(-f.leaky_relu(-(x-3)/6,negative_slope=self.ns)+1,negative_slope=self.ns)\n",
    "\n",
    "class OffsetHardsigmoid(Module):\n",
    "    def __init__(self):\n",
    "        super(OffsetHardsigmoid,self).__init__()\n",
    "        \n",
    "        \n",
    "    def forward(self,x):\n",
    "        return f.hardsigmoid(x-3)\n",
    "\n",
    "class OffsetLeakyHardsigmoid(Module):\n",
    "    def __init__(self):\n",
    "        super(OffsetLeakyHardsigmoid,self).__init__()\n",
    "        \n",
    "        \n",
    "    def forward(self,x):\n",
    "        return f.rrelu(-f.rrelu(-(x-1),lower=0)+1,lower=0)\n",
    "    \n",
    "class AbsActivation(Module):\n",
    "    def __init__(self):\n",
    "        super(AbsActivation,self).__init__()\n",
    "        \n",
    "    def forward(self,x):\n",
    "        return torch.abs(x)\n",
    "\n",
    "class NormalizeEndmembers(Module):\n",
    "    def forward(self,X):\n",
    "        return X / X.norm(dim=0)\n",
    "            \n",
    "class Net(Module):   \n",
    "    def __init__(self):\n",
    "        super(Net, self).__init__()\n",
    "        self.cnn_layers = Sequential(\n",
    "            # Defining a 2D convolution layer\n",
    "            Conv2d(nch, 64, kernel_size=3, stride=1, padding=1,bias=False),\n",
    "            ReLU(),\n",
    "            Conv2d(64, 64, kernel_size=1, stride=1, padding=0,bias=False),\n",
    "            ReLU(),\n",
    "            Conv2d(64, 64, kernel_size=1, stride=1, padding=0,bias=False),\n",
    "            ReLU(),\n",
    "            Conv2d(64, 64, kernel_size=1, stride=1, padding=0,bias=False),\n",
    "            ReLU(),\n",
    "            Conv2d(64, 64, kernel_size=1, stride=1, padding=0,bias=False),\n",
    "            ReLU(),\n",
    "            \n",
    "            # Defining additional 2D convolution layer\n",
    "            Conv2d(64, nch_bottleneck, kernel_size=1, stride=1, padding=0, bias=False),\n",
    "            \n",
    "            # implementing the v-notch nonlinearity\n",
    "            nn.Hardtanh(),\n",
    "            AbsActivation()\n",
    "        )\n",
    "        \n",
    "        self.cnn_spectral_layers = Sequential(\n",
    "            # Defining a 2D convolution layer\n",
    "            Conv2d(nch_bottleneck, nch, kernel_size=1, stride=1,bias=False),  \n",
    "            ScalableSat()\n",
    "        )\n",
    "       \n",
    "        nn.utils.parametrize.register_parametrization(self.cnn_spectral_layers[0],\"weight\",NormalizeEndmembers())\n",
    "        \n",
    "    def getSOEMlayer(self):\n",
    "        return self.cnn_spectral_layers[0]\n",
    "    \n",
    "    # Defining the forward pass    \n",
    "    def forward(self, x):\n",
    "        z = self.cnn_layers(x)\n",
    "        y = self.cnn_spectral_layers(z)\n",
    "        return y\n",
    "    \n",
    "    def forward_enc(self, x):\n",
    "        z = self.cnn_layers(x)\n",
    "        return z\n",
    "    \n",
    "    def forward_dec(self, z):\n",
    "        y = self.cnn_spectral_layers(z)\n",
    "        return y\n",
    "    \n",
    "def initialize_weights(m):\n",
    "    if isinstance(m, nn.Conv2d):\n",
    "        nn.init.xavier_uniform_(m.weight.data)\n",
    "#         nn.init.uniform_(m.weight.data)\n",
    "#         nn.init.normal_(m.weight.data)\n",
    "#         nn.init.constant_(m.weight.data, 0.3)\n",
    "#         nn.init.xavier_normal_(m.weight.data)\n",
    "#         nn.init.kaiming_uniform_(m.weight.data, mode='fan_in', nonlinearity='relu')\n",
    "#         nn.init.kaiming_normal_(m.weight.data, mode='fan_out', nonlinearity='relu')\n",
    "\n",
    "# define latent space visualization function\n",
    "def visualize_z(ind):\n",
    "    data = img_stack[ind,:,:,:]\n",
    "    data = data[None,:]\n",
    "    data = data.to(device)\n",
    "    out = model.forward_enc(torch.permute(data, (0, 3, 1, 2)))\n",
    "    out = out[0,:,:,:]\n",
    "    out = torch.permute(out, (1,2,0))\n",
    "    img = out.detach().cpu().numpy()\n",
    "    plt.figure(figsize=(10,10))\n",
    "    plt.imshow(1.2*img[:,:,0:3])\n",
    "    plt.show()\n",
    "    return img\n",
    "\n",
    "# define latent space visualization function\n",
    "def generate_z_image(ind, indices):\n",
    "    data = img_stack[ind,:,:,:]\n",
    "    data = data[None,:]\n",
    "    data = data.to(device)\n",
    "    out = model.forward_enc(torch.permute(data, (0, 3, 1, 2)))\n",
    "    out = out[0,indices[0:3],:,:]\n",
    "    out = torch.permute(out, (1,2,0))\n",
    "    img = out.detach().cpu().numpy()\n",
    "    return 1.*img\n",
    "\n",
    "def visualSummary(L1_loss, indices):\n",
    "    plt.figure(figsize=(12,6))\n",
    "    plt.subplot(2,3,(1,4))\n",
    "    img1 = generate_z_image(0, indices)\n",
    "    plt.imshow(img1)\n",
    "    plt.subplot(2,3,(2,5))\n",
    "    img2 = generate_z_image(1, indices)\n",
    "    plt.imshow(img2)\n",
    "    plt.subplot(2,3,3)\n",
    "    w = model.getSOEMlayer().weight\n",
    "    w = w.detach().cpu().numpy().squeeze()\n",
    "    tau=np.array([-2,0,0.2,0.4,1,2,4,6,14])\n",
    "    plt.plot(tau,w[:,indices[0]],'r')\n",
    "    plt.plot(tau,w[:,indices[1]],'g')\n",
    "    plt.plot(tau,w[:,indices[2]],'b')\n",
    "    plt.title('recovered endmembers')\n",
    "    plt.xlabel('probe delay, ps')\n",
    "    plt.subplot(2,3,6)\n",
    "    plt.plot(L1_loss)\n",
    "    plt.title('Train Loss')\n",
    "    plt.xlabel('Epochs')\n",
    "    plt.ylabel('L1 Loss')\n",
    "    plt.tight_layout()\n",
    "    plt.show()\n",
    "    return img1, img2\n",
    "    \n",
    "# Custom Loss Functions\n",
    "def meansq(x):\n",
    "    return torch.mean((x-torch.mean(x))**2)\n",
    "\n",
    "def corr(x,y):\n",
    "    return torch.sum(x*y) / (torch.sqrt(torch.sum(x**2))*torch.sqrt(torch.sum(y**2)))\n",
    "\n",
    "def SADLoss(weights):\n",
    "    deriv = torch.nn.Parameter(weights[1:,]-weights[:-1,])\n",
    "    sad = torch.sum(deriv**2)\n",
    "    return sad\n",
    "\n",
    "# model training routine definition\n",
    "def train_model(model, n_epochs, img_stack, lr):\n",
    "    \n",
    "    # define loss function\n",
    "    criterion = nn.L1Loss()\n",
    "    \n",
    "    # define optimizer\n",
    "    optimizer = torch.optim.Adam(model.parameters(), lr)\n",
    "    \n",
    "    # apply initialization\n",
    "    model.apply(initialize_weights)\n",
    "    \n",
    "    # initialize model weights and send to train device\n",
    "    model.to(device) # load the model in the training device\n",
    "    \n",
    "    # define variables\n",
    "    L1_loss = []\n",
    "        \n",
    "    # iterate over the epochs\n",
    "    for epoch in tqdm(range(1, n_epochs+1)):\n",
    "        # monitor training loss\n",
    "        train_loss = 0.0\n",
    "        # keep track of meansq value for each channel\n",
    "        channelmsq = torch.zeros(nch_bottleneck).to(device)\n",
    "        #Training\n",
    "        for images in img_stack:\n",
    "            images = images[None, :]\n",
    "            image_x_p = torch.permute(images, (0, 3, 1, 2))\n",
    "            image_x_p = image_x_p.to(device)\n",
    "            optimizer.zero_grad()         \n",
    "            z = model.forward_enc(image_x_p)\n",
    "            outputs = model.forward_dec(z)\n",
    "    \n",
    "            # calculate the weighted L1 loss\n",
    "            err_stack = image_x_p - outputs\n",
    "            chan_weights = 1/torch.std(image_x_p,dim=(2,3))\n",
    "            chan_weights = chan_weights / torch.sum(chan_weights)\n",
    "            chan_weights[0] = 0.1\n",
    "            l1_err_per_chan = torch.mean(torch.abs(err_stack),dim=(2,3))\n",
    "            weighted_l1 = torch.mean(chan_weights * l1_err_per_chan)\n",
    "            loss_recon = weighted_l1\n",
    "            \n",
    "            # variance-ordering\n",
    "            channelmsq += torch.mean(z**2,dim=[2,3]).squeeze()\n",
    "            \n",
    "            # interchannel correlation loss\n",
    "            zvec = z.squeeze().view(nch_bottleneck,-1)\n",
    "            zvec = zvec-torch.mean(zvec,1,keepdim=True)\n",
    "            zcov = torch.matmul(zvec,zvec.transpose(0,1))\n",
    "            zstds = torch.sqrt(zcov.diag()).expand(1,-1)\n",
    "            zstdprods = torch.matmul(zstds.transpose(0,1),zstds)\n",
    "            zcorrabs = zcov / (zstdprods + 1e-6)\n",
    "            loss_zcorr = (torch.sum(f.relu(zcorrabs.triu())) - zcorrabs.trace())\n",
    "            # total loss\n",
    "            loss = loss_recon + 0.001*loss_zcorr\n",
    "            loss.backward()\n",
    "            optimizer.step()\n",
    "            train_loss += loss.item()*image_x_p.size(0)\n",
    "        train_loss = train_loss/len(img_stack)\n",
    "        L1_loss.append(train_loss)\n",
    "        \n",
    "        # rearrange channels so red has max variance, blue the least\n",
    "        model.indices = channelmsq.argsort(descending=True)\n",
    "        \n",
    "        if epoch%200 == 0:\n",
    "            img1, img2 = visualSummary(L1_loss, model.indices)\n",
    "        \n",
    "    return L1_loss[-1], img1, img2\n"
   ]
  },
  {
   "cell_type": "markdown",
   "id": "847445df",
   "metadata": {},
   "source": [
    "# Train model"
   ]
  },
  {
   "cell_type": "code",
   "execution_count": null,
   "id": "ae702f2d",
   "metadata": {
    "scrolled": true
   },
   "outputs": [],
   "source": [
    "loss_arr_ku = []\n",
    "\n",
    "# number of times the experiment is repeated\n",
    "n_runs = 50\n",
    "n_epochs = 200\n",
    "learning_rate = 1e-2\n",
    "nch_bottleneck = 3\n",
    "\n",
    "print('Starting training of models on {}'.format(device))\n",
    "n_count = 0\n",
    "for i in range(1,n_runs+1):\n",
    "    model = Net()\n",
    "    loss, img1, img2 = train_model(model, n_epochs, img_stack, learning_rate)\n",
    "    loss_arr_ku.append((loss, img1, img2))\n",
    "    n_count+=1\n",
    "    print('Runs done: {}/{}'.format(n_count, n_runs))"
   ]
  },
  {
   "cell_type": "code",
   "execution_count": 6,
   "id": "133783e9",
   "metadata": {},
   "outputs": [
    {
     "name": "stdout",
     "output_type": "stream",
     "text": [
      "(10, 3)\n"
     ]
    },
    {
     "name": "stderr",
     "output_type": "stream",
     "text": [
      "/tmp/ipykernel_406071/2059502582.py:1: VisibleDeprecationWarning: Creating an ndarray from ragged nested sequences (which is a list-or-tuple of lists-or-tuples-or ndarrays with different lengths or shapes) is deprecated. If you meant to do this, you must specify 'dtype=object' when creating the ndarray\n",
      "  loss_arr_xu_np = np.array(loss_arr_xu)\n"
     ]
    }
   ],
   "source": [
    "loss_arr_xu_np = np.array(loss_arr_xu)\n",
    "print(loss_arr_xu_np.shape)"
   ]
  },
  {
   "cell_type": "code",
   "execution_count": 17,
   "id": "404d135e",
   "metadata": {},
   "outputs": [],
   "source": [
    "def sort_tuple(data):\n",
    "    data.sort(key = lambda x : x[0])\n",
    "    return data"
   ]
  },
  {
   "cell_type": "code",
   "execution_count": 32,
   "id": "ff313337",
   "metadata": {},
   "outputs": [],
   "source": [
    "loss_arr_ku_sorted = sort_tuple(loss_arr_ku)"
   ]
  },
  {
   "cell_type": "code",
   "execution_count": null,
   "id": "5ab3cfd4",
   "metadata": {
    "scrolled": false
   },
   "outputs": [],
   "source": [
    "for x in loss_arr_ku:\n",
    "    print(\"Loss: \", x[0])\n",
    "    plt.subplot(1,2,1)\n",
    "    plt.imshow(x[1])\n",
    "    plt.axis('off')\n",
    "    plt.subplot(1,2,2)\n",
    "    plt.imshow(x[2])\n",
    "    plt.axis('off')\n",
    "    plt.show()"
   ]
  },
  {
   "cell_type": "markdown",
   "id": "7a8ab2eb",
   "metadata": {},
   "source": [
    "# Analyze trained models"
   ]
  },
  {
   "cell_type": "code",
   "execution_count": 70,
   "id": "5a07d571",
   "metadata": {},
   "outputs": [],
   "source": [
    "def basic_boxplot(dataList, expNameList, yRange, metric, dataNum, save=False):\n",
    "    plt.figure(figsize=(18,6))\n",
    "    plt.boxplot(dataList)\n",
    "    plt.ylim(yRange)\n",
    "    plt.grid()\n",
    "    plt.xticks([i+1 for i in range(dataNum)], [expNameList[i] + ': ' + str(np.round(np.mean(dataList[i]),6)) for i in range(len(dataList))])\n",
    "    if str(metric) == 'PSNR':\n",
    "        plt.ylabel(str(metric) + ' dB')\n",
    "    else:\n",
    "        plt.ylabel(str(metric))\n",
    "    plt.title(str(metric) + ' boxplots for different initialization techniques')\n",
    "    if save:\n",
    "        plt.savefig('Boxplot' + str(metric), dpi=100, bbox_inches='tight')\n",
    "    plt.show()"
   ]
  },
  {
   "cell_type": "code",
   "execution_count": 72,
   "id": "e335f66e",
   "metadata": {},
   "outputs": [
    {
     "data": {
      "image/png": "[encoded data removed]",
      "text/plain": [
       "<Figure size 1296x432 with 1 Axes>"
      ]
     },
     "metadata": {
      "needs_background": "light"
     },
     "output_type": "display_data"
    }
   ],
   "source": [
    "dataList = [loss_arr_xu, loss_arr_u, loss_arr_normal, loss_arr_constant, loss_arr_xn, loss_arr_ku, loss_arr_kn]\n",
    "expNameList = ['xavier_uniform', 'uniform', \"normal\", 'constant', 'xavier normal', 'kaiming uniform', 'kaiming normal']\n",
    "basic_boxplot(dataList, expNameList, [0, 0.002], 'Total Loss', 7, False)"
   ]
  },
  {
   "cell_type": "markdown",
   "id": "893c9048",
   "metadata": {},
   "source": [
    "# Experiment with new features"
   ]
  }
 ],
 "metadata": {
  "kernelspec": {
   "display_name": "Python 3 (ipykernel)",
   "language": "python",
   "name": "python3"
  },
  "language_info": {
   "codemirror_mode": {
    "name": "ipython",
    "version": 3
   },
   "file_extension": ".py",
   "mimetype": "text/x-python",
   "name": "python",
   "nbconvert_exporter": "python",
   "pygments_lexer": "ipython3",
   "version": "3.8.10"
  }
 },
 "nbformat": 4,
 "nbformat_minor": 5
}
